{
 "cells": [
  {
   "cell_type": "code",
   "execution_count": 1,
   "metadata": {},
   "outputs": [],
   "source": [
    "import numpy as np\n",
    "\n",
    "import matplotlib.pyplot as plt\n",
    "%matplotlib inline\n",
    "\n"
   ]
  },
  {
   "cell_type": "code",
   "execution_count": 2,
   "metadata": {},
   "outputs": [],
   "source": [
    "def loss(H, x):\n",
    "    return 0.5 * x.dot(H.dot(x))\n",
    "\n",
    "def rk4(H, x0, lr, N):\n",
    "    path = [x0]\n",
    "    x_ = x0.copy()\n",
    "    loss_path = [loss(H, x0)]\n",
    "    \n",
    "    for i in range(N):\n",
    "        k1 = H.dot(x_)\n",
    "        k2 = H.dot(x_ - 0.5 * lr * k1)\n",
    "        k3 = H.dot(x_ - 0.5 * lr * k2)\n",
    "        k4 = H.dot(x_ - lr * k1)\n",
    "\n",
    "        x_ += -(1/ 6)* lr * (k1 + 2 * k2 + 2 * k3 + k4 )\n",
    "        path.append(x_)\n",
    "        loss_path.append(loss(H, x_))\n",
    "    \n",
    "    print('RK4 loss = {}'.format(loss_path[-1]))\n",
    "    print('RK4 x = {}'.format(path[-1]), '\\n')\n",
    "\n",
    "    return path, loss_path\n",
    "\n",
    "def rk2_ralston(H, x0, lr, N):\n",
    "    path = [x0]\n",
    "    x_ = x0.copy()\n",
    "    loss_path = [loss(H, x0)]\n",
    "    \n",
    "    for i in range(N):\n",
    "        x_ += -0.25 * lr * ( H.dot(x_) + 3 * H.dot(x_ - (2/3) * lr * H.dot(x_)) )\n",
    "        path.append(x_)\n",
    "        loss_path.append(loss(H, x_))\n",
    "        \n",
    "    print('RK2 ralston loss = {}'.format(loss_path[-1]))\n",
    "    print('RK2 ralston x = {}'.format(path[-1]), '\\n')\n",
    "\n",
    "    return path, loss_path\n",
    "\n",
    "\n",
    "def rk2(H, x0, lr, N):\n",
    "    path = [x0]\n",
    "    x_ = x0.copy()\n",
    "    loss_path = [loss(H, x0)]\n",
    "    \n",
    "    for i in range(N):\n",
    "        x_ += -0.5 * lr * ( H.dot(x_) + H.dot(x_ - lr * H.dot(x_)) )\n",
    "        path.append(x_)\n",
    "        loss_path.append(loss(H, x_))\n",
    "        \n",
    "    print('RK2 loss = {}'.format(loss_path[-1]))\n",
    "    print('RK2 x = {}'.format(path[-1]), '\\n')\n",
    "\n",
    "    return path, loss_path\n",
    "\n",
    "def grad_descent(H, x0, lr, N):\n",
    "    path = [x0]\n",
    "    x_ = x0.copy()\n",
    "    loss_path = [loss(H, x0)]\n",
    "    \n",
    "    for i in range(N):\n",
    "        x_ += -0.5 * lr *  H.dot(x_)\n",
    "        path.append(x_)\n",
    "        loss_path.append(loss(H, x_))\n",
    "    \n",
    "    print('Grad descent loss = {}'.format(loss_path[-1]))\n",
    "    print('Grad descent x = {}'.format(path[-1]), '\\n')\n",
    "\n",
    "    return path, loss_path\n"
   ]
  },
  {
   "cell_type": "code",
   "execution_count": 11,
   "metadata": {},
   "outputs": [
    {
     "name": "stdout",
     "output_type": "stream",
     "text": [
      "RK2 loss = 6.3381560469749076e-06\n",
      "RK2 x = [-0.00048609 -0.00013088  0.00036026  0.00038178  0.00021733] \n",
      "\n",
      "Grad descent loss = 6.338156046974907e-06\n",
      "Grad descent x = [-0.00048609 -0.00013088  0.00036026  0.00038178  0.00021733] \n",
      "\n",
      "RK4 loss = 1.6532480018209524e-07\n",
      "RK4 x = [-7.85069896e-05 -2.11376199e-05  5.81845998e-05  6.16593948e-05\n",
      "  3.51006023e-05] \n",
      "\n",
      "RK2 ralston loss = 6.338156046974906e-06\n",
      "RK2 ralston x = [-0.00048609 -0.00013088  0.00036026  0.00038178  0.00021733] \n",
      "\n",
      "Real loss = 1.3698505948060117e-08 , Real x = [-2.25983079e-05 -6.08448300e-06  1.67484897e-05  1.77487125e-05\n",
      "  1.01037401e-05]\n"
     ]
    },
    {
     "data": {
      "image/png": "[encoded data removed]",
      "text/plain": [
       "<matplotlib.figure.Figure at 0x11676a278>"
      ]
     },
     "metadata": {},
     "output_type": "display_data"
    }
   ],
   "source": [
    "H = np.array([[22, 0, 0, 0, 0], \n",
    "             [0, 22, 0, 0, 0],\n",
    "             [0, 0, 22, 0, 0],\n",
    "             [0, 0, 0, 22, 0],\n",
    "             [0, 0, 0, 0, 22]])\n",
    "\n",
    "x_0 = np.random.randn(5)\n",
    "\n",
    "N = 10\n",
    "lr = 1/ 22\n",
    "\n",
    "p_0, loss_0 = rk2(H, x_0, lr, N)\n",
    "p_1, loss_1 = grad_descent(H, x_0, lr, N)\n",
    "p_2, loss_2 = rk4(H, x_0, lr, N)\n",
    "p_3, loss_3 = rk2_ralston(H, x_0, lr, N)\n",
    "soln = [loss(H, np.diag(np.diag(np.exp(-t_ * H))).dot(x_0)) for t_ in np.arange(N + 1) * lr]\n",
    "\n",
    "print('Real loss = {}'.format(soln[-1]), ', Real x = {}'.format(np.diag(np.diag(np.exp(-(N * lr ) * H))).dot(x_0)))\n",
    "\n",
    "plt.plot(np.arange(N + 1), np.log(loss_1), label='grad des')\n",
    "plt.plot(np.arange(N + 1), np.log(loss_0), label='rk2')\n",
    "plt.plot(np.arange(N + 1), np.log(loss_3), label='rk2 ralston')\n",
    "plt.plot(np.arange(N + 1), np.log(loss_2), label='rk4')\n",
    "\n",
    "plt.plot(np.arange(N + 1), np.log(soln), label='solution')\n",
    "\n",
    "plt.legend(loc='upper right')\n",
    "plt.show()"
   ]
  },
  {
   "cell_type": "code",
   "execution_count": null,
   "metadata": {},
   "outputs": [],
   "source": []
  },
  {
   "cell_type": "code",
   "execution_count": null,
   "metadata": {},
   "outputs": [],
   "source": []
  }
 ],
 "metadata": {
  "kernelspec": {
   "display_name": "Python 3",
   "language": "python",
   "name": "python3"
  },
  "language_info": {
   "codemirror_mode": {
    "name": "ipython",
    "version": 3
   },
   "file_extension": ".py",
   "mimetype": "text/x-python",
   "name": "python",
   "nbconvert_exporter": "python",
   "pygments_lexer": "ipython3",
   "version": "3.6.4"
  }
 },
 "nbformat": 4,
 "nbformat_minor": 2
}
